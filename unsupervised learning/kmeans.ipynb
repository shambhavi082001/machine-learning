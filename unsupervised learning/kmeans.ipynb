{
 "cells": [
  {
   "cell_type": "code",
   "execution_count": 1,
   "metadata": {},
   "outputs": [],
   "source": [
    "import numpy as np\n",
    "import pandas as pd\n",
    "import plotly.express as px\n",
    "import matplotlib.pyplot as plt\n",
    "from seaborn import load_dataset\n",
    "from sklearn.decomposition import KernelPCA"
   ]
  },
  {
   "cell_type": "code",
   "execution_count": 2,
   "metadata": {},
   "outputs": [
    {
     "data": {
      "text/html": [
       "<div>\n",
       "<style scoped>\n",
       "    .dataframe tbody tr th:only-of-type {\n",
       "        vertical-align: middle;\n",
       "    }\n",
       "\n",
       "    .dataframe tbody tr th {\n",
       "        vertical-align: top;\n",
       "    }\n",
       "\n",
       "    .dataframe thead th {\n",
       "        text-align: right;\n",
       "    }\n",
       "</style>\n",
       "<table border=\"1\" class=\"dataframe\">\n",
       "  <thead>\n",
       "    <tr style=\"text-align: right;\">\n",
       "      <th></th>\n",
       "      <th>sepal_length</th>\n",
       "      <th>sepal_width</th>\n",
       "      <th>petal_length</th>\n",
       "      <th>petal_width</th>\n",
       "      <th>species</th>\n",
       "    </tr>\n",
       "  </thead>\n",
       "  <tbody>\n",
       "    <tr>\n",
       "      <th>0</th>\n",
       "      <td>5.1</td>\n",
       "      <td>3.5</td>\n",
       "      <td>1.4</td>\n",
       "      <td>0.2</td>\n",
       "      <td>setosa</td>\n",
       "    </tr>\n",
       "    <tr>\n",
       "      <th>1</th>\n",
       "      <td>4.9</td>\n",
       "      <td>3.0</td>\n",
       "      <td>1.4</td>\n",
       "      <td>0.2</td>\n",
       "      <td>setosa</td>\n",
       "    </tr>\n",
       "    <tr>\n",
       "      <th>2</th>\n",
       "      <td>4.7</td>\n",
       "      <td>3.2</td>\n",
       "      <td>1.3</td>\n",
       "      <td>0.2</td>\n",
       "      <td>setosa</td>\n",
       "    </tr>\n",
       "    <tr>\n",
       "      <th>3</th>\n",
       "      <td>4.6</td>\n",
       "      <td>3.1</td>\n",
       "      <td>1.5</td>\n",
       "      <td>0.2</td>\n",
       "      <td>setosa</td>\n",
       "    </tr>\n",
       "    <tr>\n",
       "      <th>4</th>\n",
       "      <td>5.0</td>\n",
       "      <td>3.6</td>\n",
       "      <td>1.4</td>\n",
       "      <td>0.2</td>\n",
       "      <td>setosa</td>\n",
       "    </tr>\n",
       "  </tbody>\n",
       "</table>\n",
       "</div>"
      ],
      "text/plain": [
       "   sepal_length  sepal_width  petal_length  petal_width species\n",
       "0           5.1          3.5           1.4          0.2  setosa\n",
       "1           4.9          3.0           1.4          0.2  setosa\n",
       "2           4.7          3.2           1.3          0.2  setosa\n",
       "3           4.6          3.1           1.5          0.2  setosa\n",
       "4           5.0          3.6           1.4          0.2  setosa"
      ]
     },
     "execution_count": 2,
     "metadata": {},
     "output_type": "execute_result"
    }
   ],
   "source": [
    "df = load_dataset('iris')\n",
    "df.head()"
   ]
  },
  {
   "cell_type": "code",
   "execution_count": 3,
   "metadata": {},
   "outputs": [
    {
     "data": {
      "application/vnd.plotly.v1+json": {
       "config": {
        "plotlyServerURL": "https://plot.ly"
       },
       "data": [
        {
         "hovertemplate": "x=%{x}<br>y=%{y}<br>z=%{z}<extra></extra>",
         "legendgroup": "",
         "marker": {
          "color": "#636efa",
          "symbol": "circle"
         },
         "mode": "markers",
         "name": "",
         "scene": "scene",
         "showlegend": false,
         "type": "scatter3d",
         "x": [
          -2.6841256259695343,
          -2.714141687294328,
          -2.888990569059295,
          -2.7453428556414083,
          -2.7287165365545287,
          -2.2808596328444892,
          -2.8205377507406078,
          -2.6261449731466318,
          -2.886382731780551,
          -2.672755797820951,
          -2.5069470906518547,
          -2.6127552309087227,
          -2.7861092661880162,
          -3.22380374386565,
          -2.644750389942026,
          -2.38603903353113,
          -2.6235278752244233,
          -2.6482967062543796,
          -2.1998203236175806,
          -2.5879863998787673,
          -2.3102562152425166,
          -2.5437052287571547,
          -3.2159394156486116,
          -2.302733182226206,
          -2.3557540491237714,
          -2.5066689069258223,
          -2.4688200731213383,
          -2.562319906196015,
          -2.639534715384544,
          -2.6319893872743467,
          -2.5873984766893523,
          -2.40993249700217,
          -2.6488623343499107,
          -2.5987367491005844,
          -2.636926878105795,
          -2.8662416521186698,
          -2.625238049850372,
          -2.8006841154482176,
          -2.9805020437819927,
          -2.590006313968092,
          -2.770102426027896,
          -2.849368705043104,
          -2.9974065465949074,
          -2.405614485097488,
          -2.2094892377836772,
          -2.714451426757707,
          -2.538148258998944,
          -2.839462167642852,
          -2.5430857498303885,
          -2.7033597823351556,
          1.2848256888583496,
          0.9324885323123144,
          1.464302321991402,
          0.18331771995837678,
          1.0881032577116625,
          0.6416690842580739,
          1.0950606626324517,
          -0.7491226698296571,
          1.0441318260534347,
          -0.008745404082892125,
          -0.5078408838353232,
          0.5116985574475941,
          0.26497650811204515,
          0.9849345104708914,
          -0.17392537168177027,
          0.9278607809442455,
          0.6602837616969361,
          0.23610499331767523,
          0.9447337280198101,
          0.04522697629870167,
          1.1162831773500568,
          0.3578884179973048,
          1.2981838753589208,
          0.9217289224470454,
          0.714853325911408,
          0.9001743731721658,
          1.332024436722092,
          1.5578021550660717,
          0.8132906498175384,
          -0.30558377802430553,
          -0.06812649206836137,
          -0.18962247237850566,
          0.1364287115580137,
          1.380026435915523,
          0.5880064433398667,
          0.8068583125004168,
          1.2206908824443503,
          0.8150952357666018,
          0.24595767988669018,
          0.1664132171454575,
          0.4648002884037799,
          0.8908151984694432,
          0.23054802355945664,
          -0.7045317592446659,
          0.3569814947010463,
          0.33193447994505293,
          0.37621565106667454,
          0.6425760075543447,
          -0.906469864948833,
          0.2990008418781436,
          2.531192727803634,
          1.4152358767039026,
          2.616676015995686,
          1.9715310530434371,
          2.350005920044646,
          3.397038736053255,
          0.5212322439097762,
          2.932587068993687,
          2.3212288165733774,
          2.9167509667860734,
          1.6617741536365371,
          1.803401952965096,
          2.165591796080148,
          1.346163579458453,
          1.5859282238732155,
          1.9044563747934289,
          1.949689059399074,
          3.487055364290279,
          3.7956454220728935,
          1.30079171263766,
          2.4278179130660504,
          1.1990011054655607,
          3.4999200389245377,
          1.3887661316914668,
          2.275430503872204,
          2.6140904738108324,
          1.258508160511486,
          1.2911320591150233,
          2.1236087227738976,
          2.388003016003466,
          2.841672778103874,
          3.2306736614320934,
          2.1594376424890505,
          1.444161242329511,
          1.7812948100451114,
          3.07649993168719,
          2.1442433143020825,
          1.9050981488140777,
          1.1693263393415028,
          2.107611143257244,
          2.314154705235601,
          1.9222678009026029,
          1.415235876703903,
          2.5630133750774773,
          2.418746182732826,
          1.9441097945469694,
          1.5271666148145189,
          1.7643457170444294,
          1.900941614218425,
          1.390188861947915
         ],
         "y": [
          0.3193972465851026,
          -0.1770012250647806,
          -0.14494942608555628,
          -0.31829897925191575,
          0.3267545129349206,
          0.7413304490629157,
          -0.08946138452856635,
          0.16338495969833003,
          -0.5783117541867022,
          -0.11377424587411539,
          0.6450688986485752,
          0.014729939161375947,
          -0.23511200020171572,
          -0.5113945870063813,
          1.1787646364375766,
          1.338062330400653,
          0.8106795141812613,
          0.3118491445933579,
          0.8728390389622153,
          0.5135603087492787,
          0.3913459356538977,
          0.4329960632790307,
          0.1334680695385299,
          0.09870885481410341,
          -0.037281859677377904,
          -0.14601688049526315,
          0.13095148943525275,
          0.367718857434204,
          0.3120399802352891,
          -0.19696122492430998,
          -0.20431849127412702,
          0.4109242642295743,
          0.8133638202969634,
          1.093145759449358,
          -0.1213223478658646,
          0.06936447158008577,
          0.5993700213794297,
          0.2686437377979784,
          -0.4879583444286106,
          0.22904383682701326,
          0.2635275337442536,
          -0.9409605736411898,
          -0.3419260574716043,
          0.18887142893026848,
          0.4366631416391918,
          -0.25020820418520523,
          0.5037711444614478,
          -0.22794556949382144,
          0.5794100215198899,
          0.10770608249941273,
          0.6851604704673159,
          0.31833363826264044,
          0.504262815309198,
          -0.8279590118206358,
          0.07459067519772734,
          -0.41824687156866897,
          0.28346827006152736,
          -1.00489096118189,
          0.22836189978840185,
          -0.7230819050048355,
          -1.2659711905263928,
          -0.10398123549903203,
          -0.5500364636804681,
          -0.12481785412635493,
          -0.25485420870258335,
          0.4671794944415165,
          -0.3529696657238464,
          -0.3336107668249157,
          -0.5431455507797593,
          -0.5838343774718601,
          -0.08461685219478841,
          -0.06892503165600851,
          -0.32778730833391734,
          -0.182737793621369,
          0.1490559443697918,
          0.32850447383432724,
          0.24444087601634504,
          0.2674954473102574,
          -0.16335030068760809,
          -0.36826218975458674,
          -0.7051721317994623,
          -0.6802867635281271,
          -0.31403243824923227,
          -0.4209542873138844,
          -0.4842874199812172,
          0.19418231471315342,
          0.40761959361101135,
          -0.3720370599095001,
          -0.26852439662201233,
          -0.6819267248636238,
          -0.6707115445117176,
          -0.03446444436826548,
          -0.404385848007322,
          -1.0122482275317108,
          -0.5049100933371071,
          -0.21265468378116845,
          -0.2932189292514156,
          0.017738190112421153,
          -0.7560933665990103,
          -0.34889780645033275,
          -0.009849109498798914,
          -0.5749163475464872,
          0.3439031513417335,
          -0.17972790435224367,
          -0.04026094714252525,
          0.5508366730280562,
          -1.192758727000643,
          0.3555000029774973,
          -0.24383150231069017,
          0.7827919488152814,
          0.24222840775507254,
          -0.21563761733355086,
          0.21627558507402825,
          -0.7768183473443381,
          -0.539640714026723,
          0.11925069209197696,
          0.041943259663216485,
          1.1757393297134293,
          0.25732297342048605,
          -0.7611496364350581,
          0.37819601261705366,
          -0.6060915277579304,
          0.4606740989118967,
          -0.2043993273521484,
          0.3349906058216768,
          0.5609013551230794,
          -0.17970479472274867,
          -0.11666865117400887,
          -0.20972947667730174,
          0.46463980470873567,
          0.37526916719510783,
          1.3741650867930502,
          -0.2172775786690492,
          -0.14341341045757888,
          -0.4999016810781354,
          0.6880856775711796,
          0.14006420108979145,
          0.04930052601303169,
          -0.1649902620231048,
          0.3722878719607999,
          0.18365127916902038,
          0.4092034668160658,
          -0.5749163475464872,
          0.2778626029291964,
          0.304798197854693,
          0.18753230280060815,
          -0.3753169825804852,
          0.07885885451847767,
          0.11662795851202569,
          -0.28266093799054953
         ],
         "z": [
          -0.027914827589414593,
          -0.21046427237824206,
          0.017900256320890314,
          0.03155937360568089,
          0.09007924055120373,
          0.1686776582091036,
          0.2578921582556205,
          -0.02187931788671736,
          0.020759570264780557,
          -0.19763272498814885,
          -0.07531800937912021,
          0.10215025995659148,
          -0.2068444304496447,
          0.06129967245709774,
          -0.15162752361780849,
          0.27777690270313726,
          0.13818322788072052,
          0.02666831561259359,
          -0.12030552339472912,
          0.21366517222471582,
          -0.23944404324495386,
          0.20845723241671668,
          0.29239675074524646,
          0.03912325874288232,
          0.12502108270287896,
          -0.2534200423446584,
          0.09491057609939407,
          -0.07849420513792273,
          -0.14590889573002663,
          0.04077107906718058,
          -0.07722298907343718,
          -0.14552497200512984,
          0.22566914972012045,
          0.15781081295822297,
          -0.14304958178614313,
          -0.1643323066530239,
          -0.2683503756939348,
          0.09369908247980271,
          0.07292704569269438,
          -0.08008230301732543,
          0.0772476931611062,
          -0.3492303773059659,
          0.1925092117127097,
          0.26386794551341736,
          0.2987427457551085,
          -0.09767814404562905,
          0.16670563660480658,
          0.08372684903359569,
          -0.017115024248514115,
          -0.08929400847882411,
          -0.4065680254676961,
          -0.018014186646239536,
          -0.33832576498090255,
          -0.179591391875357,
          -0.3077578962347895,
          0.04107609082395707,
          0.16981023986057564,
          0.01230291923759235,
          -0.41533608475939837,
          0.28114143117641155,
          -0.2698171827688549,
          0.13054775024048426,
          -0.6941468301444254,
          -0.062114408322259326,
          0.09045769072570208,
          -0.31462097583217197,
          0.3280275283785928,
          -0.27116183725106624,
          -0.49951904648511936,
          -0.23500210497205942,
          0.45962099135911016,
          -0.22985388760895192,
          -0.3478543522573048,
          -0.2310717777362784,
          -0.32180093724447933,
          -0.3162090737115761,
          -0.5217027796644121,
          -0.16492098374357966,
          0.03542450484615282,
          -0.3184915806230403,
          -0.2442138104335577,
          -0.30642056121767014,
          -0.177242766011252,
          0.01616712752075286,
          0.4444334986398118,
          0.38896306309822115,
          -0.2371670098838848,
          -0.61472084259182,
          0.18836681164618943,
          -0.060009225855335975,
          -0.024306855718956296,
          -0.009946932894360588,
          -0.22941024143915634,
          -0.10569114890302878,
          0.01661717019825984,
          0.08320429089565616,
          0.07799635108768456,
          -0.20539496698324286,
          -0.012599647557885509,
          0.010581660495573289,
          0.7601654272459097,
          0.29632252738796616,
          -0.11078788321911526,
          0.10842466246342533,
          0.285389563184455,
          -0.3484375557974745,
          0.5456592956468175,
          -0.4202399357679703,
          -0.3483043949348488,
          0.4233354176825634,
          0.24244018972578635,
          -0.03764816823146702,
          0.033326641844336716,
          0.28190288211847137,
          0.6290293264080022,
          0.4796398196265973,
          0.044186167630130724,
          0.13389487393609395,
          -0.5137677638177948,
          -0.3449950383134166,
          0.21911932430195066,
          0.5118555086969984,
          -0.5731822425680078,
          -0.06452275663127031,
          0.2861500911691448,
          -0.20553452435363126,
          0.045847703927240656,
          0.2312564626599738,
          0.154180023928832,
          -0.4495301919418587,
          -0.49889807587076174,
          -0.11454820547542315,
          0.20876316713083107,
          -0.15323388806309352,
          -0.17287518911342709,
          -0.3355922924345414,
          0.734878936725511,
          0.16218023577073876,
          0.2818358402084896,
          0.027291132141631237,
          0.3226937471730508,
          0.11358659579935758,
          0.29632252738796433,
          0.2925695245967468,
          0.5044826639771768,
          0.177825090632657,
          -0.12189817186717819,
          0.13048163128784257,
          0.723251563489919,
          0.36290964808537085
         ]
        }
       ],
       "layout": {
        "legend": {
         "tracegroupgap": 0
        },
        "margin": {
         "t": 60
        },
        "scene": {
         "domain": {
          "x": [
           0,
           1
          ],
          "y": [
           0,
           1
          ]
         },
         "xaxis": {
          "title": {
           "text": "x"
          }
         },
         "yaxis": {
          "title": {
           "text": "y"
          }
         },
         "zaxis": {
          "title": {
           "text": "z"
          }
         }
        },
        "template": {
         "data": {
          "bar": [
           {
            "error_x": {
             "color": "#2a3f5f"
            },
            "error_y": {
             "color": "#2a3f5f"
            },
            "marker": {
             "line": {
              "color": "#E5ECF6",
              "width": 0.5
             },
             "pattern": {
              "fillmode": "overlay",
              "size": 10,
              "solidity": 0.2
             }
            },
            "type": "bar"
           }
          ],
          "barpolar": [
           {
            "marker": {
             "line": {
              "color": "#E5ECF6",
              "width": 0.5
             },
             "pattern": {
              "fillmode": "overlay",
              "size": 10,
              "solidity": 0.2
             }
            },
            "type": "barpolar"
           }
          ],
          "carpet": [
           {
            "aaxis": {
             "endlinecolor": "#2a3f5f",
             "gridcolor": "white",
             "linecolor": "white",
             "minorgridcolor": "white",
             "startlinecolor": "#2a3f5f"
            },
            "baxis": {
             "endlinecolor": "#2a3f5f",
             "gridcolor": "white",
             "linecolor": "white",
             "minorgridcolor": "white",
             "startlinecolor": "#2a3f5f"
            },
            "type": "carpet"
           }
          ],
          "choropleth": [
           {
            "colorbar": {
             "outlinewidth": 0,
             "ticks": ""
            },
            "type": "choropleth"
           }
          ],
          "contour": [
           {
            "colorbar": {
             "outlinewidth": 0,
             "ticks": ""
            },
            "colorscale": [
             [
              0,
              "#0d0887"
             ],
             [
              0.1111111111111111,
              "#46039f"
             ],
             [
              0.2222222222222222,
              "#7201a8"
             ],
             [
              0.3333333333333333,
              "#9c179e"
             ],
             [
              0.4444444444444444,
              "#bd3786"
             ],
             [
              0.5555555555555556,
              "#d8576b"
             ],
             [
              0.6666666666666666,
              "#ed7953"
             ],
             [
              0.7777777777777778,
              "#fb9f3a"
             ],
             [
              0.8888888888888888,
              "#fdca26"
             ],
             [
              1,
              "#f0f921"
             ]
            ],
            "type": "contour"
           }
          ],
          "contourcarpet": [
           {
            "colorbar": {
             "outlinewidth": 0,
             "ticks": ""
            },
            "type": "contourcarpet"
           }
          ],
          "heatmap": [
           {
            "colorbar": {
             "outlinewidth": 0,
             "ticks": ""
            },
            "colorscale": [
             [
              0,
              "#0d0887"
             ],
             [
              0.1111111111111111,
              "#46039f"
             ],
             [
              0.2222222222222222,
              "#7201a8"
             ],
             [
              0.3333333333333333,
              "#9c179e"
             ],
             [
              0.4444444444444444,
              "#bd3786"
             ],
             [
              0.5555555555555556,
              "#d8576b"
             ],
             [
              0.6666666666666666,
              "#ed7953"
             ],
             [
              0.7777777777777778,
              "#fb9f3a"
             ],
             [
              0.8888888888888888,
              "#fdca26"
             ],
             [
              1,
              "#f0f921"
             ]
            ],
            "type": "heatmap"
           }
          ],
          "heatmapgl": [
           {
            "colorbar": {
             "outlinewidth": 0,
             "ticks": ""
            },
            "colorscale": [
             [
              0,
              "#0d0887"
             ],
             [
              0.1111111111111111,
              "#46039f"
             ],
             [
              0.2222222222222222,
              "#7201a8"
             ],
             [
              0.3333333333333333,
              "#9c179e"
             ],
             [
              0.4444444444444444,
              "#bd3786"
             ],
             [
              0.5555555555555556,
              "#d8576b"
             ],
             [
              0.6666666666666666,
              "#ed7953"
             ],
             [
              0.7777777777777778,
              "#fb9f3a"
             ],
             [
              0.8888888888888888,
              "#fdca26"
             ],
             [
              1,
              "#f0f921"
             ]
            ],
            "type": "heatmapgl"
           }
          ],
          "histogram": [
           {
            "marker": {
             "pattern": {
              "fillmode": "overlay",
              "size": 10,
              "solidity": 0.2
             }
            },
            "type": "histogram"
           }
          ],
          "histogram2d": [
           {
            "colorbar": {
             "outlinewidth": 0,
             "ticks": ""
            },
            "colorscale": [
             [
              0,
              "#0d0887"
             ],
             [
              0.1111111111111111,
              "#46039f"
             ],
             [
              0.2222222222222222,
              "#7201a8"
             ],
             [
              0.3333333333333333,
              "#9c179e"
             ],
             [
              0.4444444444444444,
              "#bd3786"
             ],
             [
              0.5555555555555556,
              "#d8576b"
             ],
             [
              0.6666666666666666,
              "#ed7953"
             ],
             [
              0.7777777777777778,
              "#fb9f3a"
             ],
             [
              0.8888888888888888,
              "#fdca26"
             ],
             [
              1,
              "#f0f921"
             ]
            ],
            "type": "histogram2d"
           }
          ],
          "histogram2dcontour": [
           {
            "colorbar": {
             "outlinewidth": 0,
             "ticks": ""
            },
            "colorscale": [
             [
              0,
              "#0d0887"
             ],
             [
              0.1111111111111111,
              "#46039f"
             ],
             [
              0.2222222222222222,
              "#7201a8"
             ],
             [
              0.3333333333333333,
              "#9c179e"
             ],
             [
              0.4444444444444444,
              "#bd3786"
             ],
             [
              0.5555555555555556,
              "#d8576b"
             ],
             [
              0.6666666666666666,
              "#ed7953"
             ],
             [
              0.7777777777777778,
              "#fb9f3a"
             ],
             [
              0.8888888888888888,
              "#fdca26"
             ],
             [
              1,
              "#f0f921"
             ]
            ],
            "type": "histogram2dcontour"
           }
          ],
          "mesh3d": [
           {
            "colorbar": {
             "outlinewidth": 0,
             "ticks": ""
            },
            "type": "mesh3d"
           }
          ],
          "parcoords": [
           {
            "line": {
             "colorbar": {
              "outlinewidth": 0,
              "ticks": ""
             }
            },
            "type": "parcoords"
           }
          ],
          "pie": [
           {
            "automargin": true,
            "type": "pie"
           }
          ],
          "scatter": [
           {
            "fillpattern": {
             "fillmode": "overlay",
             "size": 10,
             "solidity": 0.2
            },
            "type": "scatter"
           }
          ],
          "scatter3d": [
           {
            "line": {
             "colorbar": {
              "outlinewidth": 0,
              "ticks": ""
             }
            },
            "marker": {
             "colorbar": {
              "outlinewidth": 0,
              "ticks": ""
             }
            },
            "type": "scatter3d"
           }
          ],
          "scattercarpet": [
           {
            "marker": {
             "colorbar": {
              "outlinewidth": 0,
              "ticks": ""
             }
            },
            "type": "scattercarpet"
           }
          ],
          "scattergeo": [
           {
            "marker": {
             "colorbar": {
              "outlinewidth": 0,
              "ticks": ""
             }
            },
            "type": "scattergeo"
           }
          ],
          "scattergl": [
           {
            "marker": {
             "colorbar": {
              "outlinewidth": 0,
              "ticks": ""
             }
            },
            "type": "scattergl"
           }
          ],
          "scattermapbox": [
           {
            "marker": {
             "colorbar": {
              "outlinewidth": 0,
              "ticks": ""
             }
            },
            "type": "scattermapbox"
           }
          ],
          "scatterpolar": [
           {
            "marker": {
             "colorbar": {
              "outlinewidth": 0,
              "ticks": ""
             }
            },
            "type": "scatterpolar"
           }
          ],
          "scatterpolargl": [
           {
            "marker": {
             "colorbar": {
              "outlinewidth": 0,
              "ticks": ""
             }
            },
            "type": "scatterpolargl"
           }
          ],
          "scatterternary": [
           {
            "marker": {
             "colorbar": {
              "outlinewidth": 0,
              "ticks": ""
             }
            },
            "type": "scatterternary"
           }
          ],
          "surface": [
           {
            "colorbar": {
             "outlinewidth": 0,
             "ticks": ""
            },
            "colorscale": [
             [
              0,
              "#0d0887"
             ],
             [
              0.1111111111111111,
              "#46039f"
             ],
             [
              0.2222222222222222,
              "#7201a8"
             ],
             [
              0.3333333333333333,
              "#9c179e"
             ],
             [
              0.4444444444444444,
              "#bd3786"
             ],
             [
              0.5555555555555556,
              "#d8576b"
             ],
             [
              0.6666666666666666,
              "#ed7953"
             ],
             [
              0.7777777777777778,
              "#fb9f3a"
             ],
             [
              0.8888888888888888,
              "#fdca26"
             ],
             [
              1,
              "#f0f921"
             ]
            ],
            "type": "surface"
           }
          ],
          "table": [
           {
            "cells": {
             "fill": {
              "color": "#EBF0F8"
             },
             "line": {
              "color": "white"
             }
            },
            "header": {
             "fill": {
              "color": "#C8D4E3"
             },
             "line": {
              "color": "white"
             }
            },
            "type": "table"
           }
          ]
         },
         "layout": {
          "annotationdefaults": {
           "arrowcolor": "#2a3f5f",
           "arrowhead": 0,
           "arrowwidth": 1
          },
          "autotypenumbers": "strict",
          "coloraxis": {
           "colorbar": {
            "outlinewidth": 0,
            "ticks": ""
           }
          },
          "colorscale": {
           "diverging": [
            [
             0,
             "#8e0152"
            ],
            [
             0.1,
             "#c51b7d"
            ],
            [
             0.2,
             "#de77ae"
            ],
            [
             0.3,
             "#f1b6da"
            ],
            [
             0.4,
             "#fde0ef"
            ],
            [
             0.5,
             "#f7f7f7"
            ],
            [
             0.6,
             "#e6f5d0"
            ],
            [
             0.7,
             "#b8e186"
            ],
            [
             0.8,
             "#7fbc41"
            ],
            [
             0.9,
             "#4d9221"
            ],
            [
             1,
             "#276419"
            ]
           ],
           "sequential": [
            [
             0,
             "#0d0887"
            ],
            [
             0.1111111111111111,
             "#46039f"
            ],
            [
             0.2222222222222222,
             "#7201a8"
            ],
            [
             0.3333333333333333,
             "#9c179e"
            ],
            [
             0.4444444444444444,
             "#bd3786"
            ],
            [
             0.5555555555555556,
             "#d8576b"
            ],
            [
             0.6666666666666666,
             "#ed7953"
            ],
            [
             0.7777777777777778,
             "#fb9f3a"
            ],
            [
             0.8888888888888888,
             "#fdca26"
            ],
            [
             1,
             "#f0f921"
            ]
           ],
           "sequentialminus": [
            [
             0,
             "#0d0887"
            ],
            [
             0.1111111111111111,
             "#46039f"
            ],
            [
             0.2222222222222222,
             "#7201a8"
            ],
            [
             0.3333333333333333,
             "#9c179e"
            ],
            [
             0.4444444444444444,
             "#bd3786"
            ],
            [
             0.5555555555555556,
             "#d8576b"
            ],
            [
             0.6666666666666666,
             "#ed7953"
            ],
            [
             0.7777777777777778,
             "#fb9f3a"
            ],
            [
             0.8888888888888888,
             "#fdca26"
            ],
            [
             1,
             "#f0f921"
            ]
           ]
          },
          "colorway": [
           "#636efa",
           "#EF553B",
           "#00cc96",
           "#ab63fa",
           "#FFA15A",
           "#19d3f3",
           "#FF6692",
           "#B6E880",
           "#FF97FF",
           "#FECB52"
          ],
          "font": {
           "color": "#2a3f5f"
          },
          "geo": {
           "bgcolor": "white",
           "lakecolor": "white",
           "landcolor": "#E5ECF6",
           "showlakes": true,
           "showland": true,
           "subunitcolor": "white"
          },
          "hoverlabel": {
           "align": "left"
          },
          "hovermode": "closest",
          "mapbox": {
           "style": "light"
          },
          "paper_bgcolor": "white",
          "plot_bgcolor": "#E5ECF6",
          "polar": {
           "angularaxis": {
            "gridcolor": "white",
            "linecolor": "white",
            "ticks": ""
           },
           "bgcolor": "#E5ECF6",
           "radialaxis": {
            "gridcolor": "white",
            "linecolor": "white",
            "ticks": ""
           }
          },
          "scene": {
           "xaxis": {
            "backgroundcolor": "#E5ECF6",
            "gridcolor": "white",
            "gridwidth": 2,
            "linecolor": "white",
            "showbackground": true,
            "ticks": "",
            "zerolinecolor": "white"
           },
           "yaxis": {
            "backgroundcolor": "#E5ECF6",
            "gridcolor": "white",
            "gridwidth": 2,
            "linecolor": "white",
            "showbackground": true,
            "ticks": "",
            "zerolinecolor": "white"
           },
           "zaxis": {
            "backgroundcolor": "#E5ECF6",
            "gridcolor": "white",
            "gridwidth": 2,
            "linecolor": "white",
            "showbackground": true,
            "ticks": "",
            "zerolinecolor": "white"
           }
          },
          "shapedefaults": {
           "line": {
            "color": "#2a3f5f"
           }
          },
          "ternary": {
           "aaxis": {
            "gridcolor": "white",
            "linecolor": "white",
            "ticks": ""
           },
           "baxis": {
            "gridcolor": "white",
            "linecolor": "white",
            "ticks": ""
           },
           "bgcolor": "#E5ECF6",
           "caxis": {
            "gridcolor": "white",
            "linecolor": "white",
            "ticks": ""
           }
          },
          "title": {
           "x": 0.05
          },
          "xaxis": {
           "automargin": true,
           "gridcolor": "white",
           "linecolor": "white",
           "ticks": "",
           "title": {
            "standoff": 15
           },
           "zerolinecolor": "white",
           "zerolinewidth": 2
          },
          "yaxis": {
           "automargin": true,
           "gridcolor": "white",
           "linecolor": "white",
           "ticks": "",
           "title": {
            "standoff": 15
           },
           "zerolinecolor": "white",
           "zerolinewidth": 2
          }
         }
        }
       }
      }
     },
     "metadata": {},
     "output_type": "display_data"
    }
   ],
   "source": [
    "X = df.drop(columns='species')\n",
    "features = KernelPCA(n_components=3).fit_transform(X)\n",
    "px.scatter_3d(x=features[:,0], y=features[:,1], z=features[:,2])"
   ]
  },
  {
   "cell_type": "code",
   "execution_count": 4,
   "metadata": {},
   "outputs": [],
   "source": [
    "from sklearn.cluster import KMeans"
   ]
  },
  {
   "cell_type": "code",
   "execution_count": 5,
   "metadata": {},
   "outputs": [
    {
     "name": "stderr",
     "output_type": "stream",
     "text": [
      "c:\\Users\\Shambhavi\\miniconda3\\lib\\site-packages\\sklearn\\cluster\\_kmeans.py:1334: UserWarning:\n",
      "\n",
      "KMeans is known to have a memory leak on Windows with MKL, when there are less chunks than available threads. You can avoid it by setting the environment variable OMP_NUM_THREADS=1.\n",
      "\n",
      "c:\\Users\\Shambhavi\\miniconda3\\lib\\site-packages\\sklearn\\cluster\\_kmeans.py:1334: UserWarning:\n",
      "\n",
      "KMeans is known to have a memory leak on Windows with MKL, when there are less chunks than available threads. You can avoid it by setting the environment variable OMP_NUM_THREADS=1.\n",
      "\n",
      "c:\\Users\\Shambhavi\\miniconda3\\lib\\site-packages\\sklearn\\cluster\\_kmeans.py:1334: UserWarning:\n",
      "\n",
      "KMeans is known to have a memory leak on Windows with MKL, when there are less chunks than available threads. You can avoid it by setting the environment variable OMP_NUM_THREADS=1.\n",
      "\n",
      "c:\\Users\\Shambhavi\\miniconda3\\lib\\site-packages\\sklearn\\cluster\\_kmeans.py:1334: UserWarning:\n",
      "\n",
      "KMeans is known to have a memory leak on Windows with MKL, when there are less chunks than available threads. You can avoid it by setting the environment variable OMP_NUM_THREADS=1.\n",
      "\n",
      "c:\\Users\\Shambhavi\\miniconda3\\lib\\site-packages\\sklearn\\cluster\\_kmeans.py:1334: UserWarning:\n",
      "\n",
      "KMeans is known to have a memory leak on Windows with MKL, when there are less chunks than available threads. You can avoid it by setting the environment variable OMP_NUM_THREADS=1.\n",
      "\n",
      "c:\\Users\\Shambhavi\\miniconda3\\lib\\site-packages\\sklearn\\cluster\\_kmeans.py:1334: UserWarning:\n",
      "\n",
      "KMeans is known to have a memory leak on Windows with MKL, when there are less chunks than available threads. You can avoid it by setting the environment variable OMP_NUM_THREADS=1.\n",
      "\n",
      "c:\\Users\\Shambhavi\\miniconda3\\lib\\site-packages\\sklearn\\cluster\\_kmeans.py:1334: UserWarning:\n",
      "\n",
      "KMeans is known to have a memory leak on Windows with MKL, when there are less chunks than available threads. You can avoid it by setting the environment variable OMP_NUM_THREADS=1.\n",
      "\n",
      "c:\\Users\\Shambhavi\\miniconda3\\lib\\site-packages\\sklearn\\cluster\\_kmeans.py:1334: UserWarning:\n",
      "\n",
      "KMeans is known to have a memory leak on Windows with MKL, when there are less chunks than available threads. You can avoid it by setting the environment variable OMP_NUM_THREADS=1.\n",
      "\n",
      "c:\\Users\\Shambhavi\\miniconda3\\lib\\site-packages\\sklearn\\cluster\\_kmeans.py:1334: UserWarning:\n",
      "\n",
      "KMeans is known to have a memory leak on Windows with MKL, when there are less chunks than available threads. You can avoid it by setting the environment variable OMP_NUM_THREADS=1.\n",
      "\n",
      "c:\\Users\\Shambhavi\\miniconda3\\lib\\site-packages\\sklearn\\cluster\\_kmeans.py:1334: UserWarning:\n",
      "\n",
      "KMeans is known to have a memory leak on Windows with MKL, when there are less chunks than available threads. You can avoid it by setting the environment variable OMP_NUM_THREADS=1.\n",
      "\n"
     ]
    }
   ],
   "source": [
    "wcss = []\n",
    "for k in range(1,11):\n",
    "    model = KMeans(n_clusters=k)\n",
    "    model.fit(features)\n",
    "    wcss.append({\n",
    "        'k': k,\n",
    "        'wcss': model.inertia_\n",
    "    })    "
   ]
  },
  {
   "cell_type": "code",
   "execution_count": 6,
   "metadata": {},
   "outputs": [
    {
     "data": {
      "image/png": "[encoded data removed]",
      "text/plain": [
       "<Figure size 1500x700 with 1 Axes>"
      ]
     },
     "metadata": {},
     "output_type": "display_data"
    }
   ],
   "source": [
    "pd.DataFrame(wcss).plot(kind='line',x='k',y='wcss',\n",
    "    linewidth=2, markersize=10, style='ro--', figsize=(15,7))\n",
    "plt.show()"
   ]
  },
  {
   "cell_type": "code",
   "execution_count": 7,
   "metadata": {},
   "outputs": [
    {
     "name": "stderr",
     "output_type": "stream",
     "text": [
      "c:\\Users\\Shambhavi\\miniconda3\\lib\\site-packages\\sklearn\\cluster\\_kmeans.py:1334: UserWarning:\n",
      "\n",
      "KMeans is known to have a memory leak on Windows with MKL, when there are less chunks than available threads. You can avoid it by setting the environment variable OMP_NUM_THREADS=1.\n",
      "\n"
     ]
    },
    {
     "data": {
      "application/vnd.plotly.v1+json": {
       "config": {
        "plotlyServerURL": "https://plot.ly"
       },
       "data": [
        {
         "hovertemplate": "symbol=0<br>x=%{x}<br>y=%{y}<br>z=%{z}<br>color=%{marker.color}<extra></extra>",
         "legendgroup": "0",
         "marker": {
          "color": [
           0,
           0,
           0,
           0,
           0,
           0,
           0,
           0,
           0,
           0,
           0,
           0,
           0,
           0,
           0,
           0,
           0,
           0,
           0,
           0,
           0,
           0,
           0,
           0,
           0,
           0,
           0,
           0,
           0,
           0,
           0,
           0,
           0,
           0,
           0,
           0,
           0,
           0,
           0,
           0,
           0,
           0,
           0,
           0,
           0,
           0,
           0,
           0,
           0,
           0
          ],
          "coloraxis": "coloraxis",
          "symbol": "circle"
         },
         "mode": "markers",
         "name": "0",
         "scene": "scene",
         "showlegend": true,
         "type": "scatter3d",
         "x": [
          -2.6841256259695343,
          -2.714141687294328,
          -2.888990569059295,
          -2.7453428556414083,
          -2.7287165365545287,
          -2.2808596328444892,
          -2.8205377507406078,
          -2.6261449731466318,
          -2.886382731780551,
          -2.672755797820951,
          -2.5069470906518547,
          -2.6127552309087227,
          -2.7861092661880162,
          -3.22380374386565,
          -2.644750389942026,
          -2.38603903353113,
          -2.6235278752244233,
          -2.6482967062543796,
          -2.1998203236175806,
          -2.5879863998787673,
          -2.3102562152425166,
          -2.5437052287571547,
          -3.2159394156486116,
          -2.302733182226206,
          -2.3557540491237714,
          -2.5066689069258223,
          -2.4688200731213383,
          -2.562319906196015,
          -2.639534715384544,
          -2.6319893872743467,
          -2.5873984766893523,
          -2.40993249700217,
          -2.6488623343499107,
          -2.5987367491005844,
          -2.636926878105795,
          -2.8662416521186698,
          -2.625238049850372,
          -2.8006841154482176,
          -2.9805020437819927,
          -2.590006313968092,
          -2.770102426027896,
          -2.849368705043104,
          -2.9974065465949074,
          -2.405614485097488,
          -2.2094892377836772,
          -2.714451426757707,
          -2.538148258998944,
          -2.839462167642852,
          -2.5430857498303885,
          -2.7033597823351556
         ],
         "y": [
          0.3193972465851026,
          -0.1770012250647806,
          -0.14494942608555628,
          -0.31829897925191575,
          0.3267545129349206,
          0.7413304490629157,
          -0.08946138452856635,
          0.16338495969833003,
          -0.5783117541867022,
          -0.11377424587411539,
          0.6450688986485752,
          0.014729939161375947,
          -0.23511200020171572,
          -0.5113945870063813,
          1.1787646364375766,
          1.338062330400653,
          0.8106795141812613,
          0.3118491445933579,
          0.8728390389622153,
          0.5135603087492787,
          0.3913459356538977,
          0.4329960632790307,
          0.1334680695385299,
          0.09870885481410341,
          -0.037281859677377904,
          -0.14601688049526315,
          0.13095148943525275,
          0.367718857434204,
          0.3120399802352891,
          -0.19696122492430998,
          -0.20431849127412702,
          0.4109242642295743,
          0.8133638202969634,
          1.093145759449358,
          -0.1213223478658646,
          0.06936447158008577,
          0.5993700213794297,
          0.2686437377979784,
          -0.4879583444286106,
          0.22904383682701326,
          0.2635275337442536,
          -0.9409605736411898,
          -0.3419260574716043,
          0.18887142893026848,
          0.4366631416391918,
          -0.25020820418520523,
          0.5037711444614478,
          -0.22794556949382144,
          0.5794100215198899,
          0.10770608249941273
         ],
         "z": [
          -0.027914827589414593,
          -0.21046427237824206,
          0.017900256320890314,
          0.03155937360568089,
          0.09007924055120373,
          0.1686776582091036,
          0.2578921582556205,
          -0.02187931788671736,
          0.020759570264780557,
          -0.19763272498814885,
          -0.07531800937912021,
          0.10215025995659148,
          -0.2068444304496447,
          0.06129967245709774,
          -0.15162752361780849,
          0.27777690270313726,
          0.13818322788072052,
          0.02666831561259359,
          -0.12030552339472912,
          0.21366517222471582,
          -0.23944404324495386,
          0.20845723241671668,
          0.29239675074524646,
          0.03912325874288232,
          0.12502108270287896,
          -0.2534200423446584,
          0.09491057609939407,
          -0.07849420513792273,
          -0.14590889573002663,
          0.04077107906718058,
          -0.07722298907343718,
          -0.14552497200512984,
          0.22566914972012045,
          0.15781081295822297,
          -0.14304958178614313,
          -0.1643323066530239,
          -0.2683503756939348,
          0.09369908247980271,
          0.07292704569269438,
          -0.08008230301732543,
          0.0772476931611062,
          -0.3492303773059659,
          0.1925092117127097,
          0.26386794551341736,
          0.2987427457551085,
          -0.09767814404562905,
          0.16670563660480658,
          0.08372684903359569,
          -0.017115024248514115,
          -0.08929400847882411
         ]
        },
        {
         "hovertemplate": "symbol=1<br>x=%{x}<br>y=%{y}<br>z=%{z}<br>color=%{marker.color}<extra></extra>",
         "legendgroup": "1",
         "marker": {
          "color": [
           1,
           1,
           1,
           1,
           1,
           1,
           1,
           1,
           1,
           1,
           1,
           1,
           1,
           1,
           1,
           1,
           1,
           1,
           1,
           1,
           1,
           1,
           1,
           1,
           1,
           1,
           1,
           1,
           1,
           1,
           1,
           1,
           1,
           1,
           1,
           1,
           1,
           1,
           1,
           1,
           1,
           1,
           1,
           1,
           1,
           1,
           1,
           1,
           1,
           1,
           1,
           1,
           1,
           1,
           1,
           1,
           1,
           1,
           1,
           1,
           1,
           1
          ],
          "coloraxis": "coloraxis",
          "symbol": "diamond"
         },
         "mode": "markers",
         "name": "1",
         "scene": "scene",
         "showlegend": true,
         "type": "scatter3d",
         "x": [
          1.2848256888583496,
          0.9324885323123144,
          0.18331771995837678,
          1.0881032577116625,
          0.6416690842580739,
          1.0950606626324517,
          -0.7491226698296571,
          1.0441318260534347,
          -0.008745404082892125,
          -0.5078408838353232,
          0.5116985574475941,
          0.26497650811204515,
          0.9849345104708914,
          -0.17392537168177027,
          0.9278607809442455,
          0.6602837616969361,
          0.23610499331767523,
          0.9447337280198101,
          0.04522697629870167,
          1.1162831773500568,
          0.3578884179973048,
          1.2981838753589208,
          0.9217289224470454,
          0.714853325911408,
          0.9001743731721658,
          1.332024436722092,
          0.8132906498175384,
          -0.30558377802430553,
          -0.06812649206836137,
          -0.18962247237850566,
          0.1364287115580137,
          1.380026435915523,
          0.5880064433398667,
          0.8068583125004168,
          1.2206908824443503,
          0.8150952357666018,
          0.24595767988669018,
          0.1664132171454575,
          0.4648002884037799,
          0.8908151984694432,
          0.23054802355945664,
          -0.7045317592446659,
          0.3569814947010463,
          0.33193447994505293,
          0.37621565106667454,
          0.6425760075543447,
          -0.906469864948833,
          0.2990008418781436,
          1.4152358767039026,
          0.5212322439097762,
          1.346163579458453,
          1.5859282238732155,
          1.30079171263766,
          1.1990011054655607,
          1.3887661316914668,
          1.258508160511486,
          1.2911320591150233,
          1.444161242329511,
          1.1693263393415028,
          1.415235876703903,
          1.5271666148145189,
          1.390188861947915
         ],
         "y": [
          0.6851604704673159,
          0.31833363826264044,
          -0.8279590118206358,
          0.07459067519772734,
          -0.41824687156866897,
          0.28346827006152736,
          -1.00489096118189,
          0.22836189978840185,
          -0.7230819050048355,
          -1.2659711905263928,
          -0.10398123549903203,
          -0.5500364636804681,
          -0.12481785412635493,
          -0.25485420870258335,
          0.4671794944415165,
          -0.3529696657238464,
          -0.3336107668249157,
          -0.5431455507797593,
          -0.5838343774718601,
          -0.08461685219478841,
          -0.06892503165600851,
          -0.32778730833391734,
          -0.182737793621369,
          0.1490559443697918,
          0.32850447383432724,
          0.24444087601634504,
          -0.16335030068760809,
          -0.36826218975458674,
          -0.7051721317994623,
          -0.6802867635281271,
          -0.31403243824923227,
          -0.4209542873138844,
          -0.4842874199812172,
          0.19418231471315342,
          0.40761959361101135,
          -0.3720370599095001,
          -0.26852439662201233,
          -0.6819267248636238,
          -0.6707115445117176,
          -0.03446444436826548,
          -0.404385848007322,
          -1.0122482275317108,
          -0.5049100933371071,
          -0.21265468378116845,
          -0.2932189292514156,
          0.017738190112421153,
          -0.7560933665990103,
          -0.34889780645033275,
          -0.5749163475464872,
          -1.192758727000643,
          -0.7768183473443381,
          -0.539640714026723,
          -0.7611496364350581,
          -0.6060915277579304,
          -0.2043993273521484,
          -0.17970479472274867,
          -0.11666865117400887,
          -0.14341341045757888,
          -0.1649902620231048,
          -0.5749163475464872,
          -0.3753169825804852,
          -0.28266093799054953
         ],
         "z": [
          -0.4065680254676961,
          -0.018014186646239536,
          -0.179591391875357,
          -0.3077578962347895,
          0.04107609082395707,
          0.16981023986057564,
          0.01230291923759235,
          -0.41533608475939837,
          0.28114143117641155,
          -0.2698171827688549,
          0.13054775024048426,
          -0.6941468301444254,
          -0.062114408322259326,
          0.09045769072570208,
          -0.31462097583217197,
          0.3280275283785928,
          -0.27116183725106624,
          -0.49951904648511936,
          -0.23500210497205942,
          0.45962099135911016,
          -0.22985388760895192,
          -0.3478543522573048,
          -0.2310717777362784,
          -0.32180093724447933,
          -0.3162090737115761,
          -0.5217027796644121,
          0.03542450484615282,
          -0.3184915806230403,
          -0.2442138104335577,
          -0.30642056121767014,
          -0.177242766011252,
          0.01616712752075286,
          0.4444334986398118,
          0.38896306309822115,
          -0.2371670098838848,
          -0.61472084259182,
          0.18836681164618943,
          -0.060009225855335975,
          -0.024306855718956296,
          -0.009946932894360588,
          -0.22941024143915634,
          -0.10569114890302878,
          0.01661717019825984,
          0.08320429089565616,
          0.07799635108768456,
          -0.20539496698324286,
          -0.012599647557885509,
          0.010581660495573289,
          0.29632252738796616,
          0.5456592956468175,
          0.28190288211847137,
          0.6290293264080022,
          -0.3449950383134166,
          0.5118555086969984,
          -0.06452275663127031,
          0.045847703927240656,
          0.2312564626599738,
          -0.15323388806309352,
          0.2818358402084896,
          0.29632252738796433,
          -0.12189817186717819,
          0.36290964808537085
         ]
        },
        {
         "hovertemplate": "symbol=2<br>x=%{x}<br>y=%{y}<br>z=%{z}<br>color=%{marker.color}<extra></extra>",
         "legendgroup": "2",
         "marker": {
          "color": [
           2,
           2,
           2,
           2,
           2,
           2,
           2,
           2,
           2,
           2,
           2,
           2,
           2,
           2,
           2,
           2,
           2,
           2,
           2,
           2,
           2,
           2,
           2,
           2,
           2,
           2,
           2,
           2,
           2,
           2,
           2,
           2,
           2,
           2,
           2,
           2,
           2,
           2
          ],
          "coloraxis": "coloraxis",
          "symbol": "square"
         },
         "mode": "markers",
         "name": "2",
         "scene": "scene",
         "showlegend": true,
         "type": "scatter3d",
         "x": [
          1.464302321991402,
          1.5578021550660717,
          2.531192727803634,
          2.616676015995686,
          1.9715310530434371,
          2.350005920044646,
          3.397038736053255,
          2.932587068993687,
          2.3212288165733774,
          2.9167509667860734,
          1.6617741536365371,
          1.803401952965096,
          2.165591796080148,
          1.9044563747934289,
          1.949689059399074,
          3.487055364290279,
          3.7956454220728935,
          2.4278179130660504,
          3.4999200389245377,
          2.275430503872204,
          2.6140904738108324,
          2.1236087227738976,
          2.388003016003466,
          2.841672778103874,
          3.2306736614320934,
          2.1594376424890505,
          1.7812948100451114,
          3.07649993168719,
          2.1442433143020825,
          1.9050981488140777,
          2.107611143257244,
          2.314154705235601,
          1.9222678009026029,
          2.5630133750774773,
          2.418746182732826,
          1.9441097945469694,
          1.7643457170444294,
          1.900941614218425
         ],
         "y": [
          0.504262815309198,
          0.2674954473102574,
          -0.009849109498798914,
          0.3439031513417335,
          -0.17972790435224367,
          -0.04026094714252525,
          0.5508366730280562,
          0.3555000029774973,
          -0.24383150231069017,
          0.7827919488152814,
          0.24222840775507254,
          -0.21563761733355086,
          0.21627558507402825,
          0.11925069209197696,
          0.041943259663216485,
          1.1757393297134293,
          0.25732297342048605,
          0.37819601261705366,
          0.4606740989118967,
          0.3349906058216768,
          0.5609013551230794,
          -0.20972947667730174,
          0.46463980470873567,
          0.37526916719510783,
          1.3741650867930502,
          -0.2172775786690492,
          -0.4999016810781354,
          0.6880856775711796,
          0.14006420108979145,
          0.04930052601303169,
          0.3722878719607999,
          0.18365127916902038,
          0.4092034668160658,
          0.2778626029291964,
          0.304798197854693,
          0.18753230280060815,
          0.07885885451847767,
          0.11662795851202569
         ],
         "z": [
          -0.33832576498090255,
          -0.16492098374357966,
          0.7601654272459097,
          -0.11078788321911526,
          0.10842466246342533,
          0.285389563184455,
          -0.3484375557974745,
          -0.4202399357679703,
          -0.3483043949348488,
          0.4233354176825634,
          0.24244018972578635,
          -0.03764816823146702,
          0.033326641844336716,
          0.4796398196265973,
          0.044186167630130724,
          0.13389487393609395,
          -0.5137677638177948,
          0.21911932430195066,
          -0.5731822425680078,
          0.2861500911691448,
          -0.20553452435363126,
          0.154180023928832,
          -0.4495301919418587,
          -0.49889807587076174,
          -0.11454820547542315,
          0.20876316713083107,
          -0.17287518911342709,
          -0.3355922924345414,
          0.734878936725511,
          0.16218023577073876,
          0.027291132141631237,
          0.3226937471730508,
          0.11358659579935758,
          0.2925695245967468,
          0.5044826639771768,
          0.177825090632657,
          0.13048163128784257,
          0.723251563489919
         ]
        }
       ],
       "layout": {
        "coloraxis": {
         "colorbar": {
          "title": {
           "text": "color"
          }
         },
         "colorscale": [
          [
           0,
           "#0d0887"
          ],
          [
           0.1111111111111111,
           "#46039f"
          ],
          [
           0.2222222222222222,
           "#7201a8"
          ],
          [
           0.3333333333333333,
           "#9c179e"
          ],
          [
           0.4444444444444444,
           "#bd3786"
          ],
          [
           0.5555555555555556,
           "#d8576b"
          ],
          [
           0.6666666666666666,
           "#ed7953"
          ],
          [
           0.7777777777777778,
           "#fb9f3a"
          ],
          [
           0.8888888888888888,
           "#fdca26"
          ],
          [
           1,
           "#f0f921"
          ]
         ]
        },
        "legend": {
         "title": {
          "text": "symbol"
         },
         "tracegroupgap": 0
        },
        "margin": {
         "t": 60
        },
        "scene": {
         "domain": {
          "x": [
           0,
           1
          ],
          "y": [
           0,
           1
          ]
         },
         "xaxis": {
          "title": {
           "text": "x"
          }
         },
         "yaxis": {
          "title": {
           "text": "y"
          }
         },
         "zaxis": {
          "title": {
           "text": "z"
          }
         }
        },
        "template": {
         "data": {
          "bar": [
           {
            "error_x": {
             "color": "#2a3f5f"
            },
            "error_y": {
             "color": "#2a3f5f"
            },
            "marker": {
             "line": {
              "color": "#E5ECF6",
              "width": 0.5
             },
             "pattern": {
              "fillmode": "overlay",
              "size": 10,
              "solidity": 0.2
             }
            },
            "type": "bar"
           }
          ],
          "barpolar": [
           {
            "marker": {
             "line": {
              "color": "#E5ECF6",
              "width": 0.5
             },
             "pattern": {
              "fillmode": "overlay",
              "size": 10,
              "solidity": 0.2
             }
            },
            "type": "barpolar"
           }
          ],
          "carpet": [
           {
            "aaxis": {
             "endlinecolor": "#2a3f5f",
             "gridcolor": "white",
             "linecolor": "white",
             "minorgridcolor": "white",
             "startlinecolor": "#2a3f5f"
            },
            "baxis": {
             "endlinecolor": "#2a3f5f",
             "gridcolor": "white",
             "linecolor": "white",
             "minorgridcolor": "white",
             "startlinecolor": "#2a3f5f"
            },
            "type": "carpet"
           }
          ],
          "choropleth": [
           {
            "colorbar": {
             "outlinewidth": 0,
             "ticks": ""
            },
            "type": "choropleth"
           }
          ],
          "contour": [
           {
            "colorbar": {
             "outlinewidth": 0,
             "ticks": ""
            },
            "colorscale": [
             [
              0,
              "#0d0887"
             ],
             [
              0.1111111111111111,
              "#46039f"
             ],
             [
              0.2222222222222222,
              "#7201a8"
             ],
             [
              0.3333333333333333,
              "#9c179e"
             ],
             [
              0.4444444444444444,
              "#bd3786"
             ],
             [
              0.5555555555555556,
              "#d8576b"
             ],
             [
              0.6666666666666666,
              "#ed7953"
             ],
             [
              0.7777777777777778,
              "#fb9f3a"
             ],
             [
              0.8888888888888888,
              "#fdca26"
             ],
             [
              1,
              "#f0f921"
             ]
            ],
            "type": "contour"
           }
          ],
          "contourcarpet": [
           {
            "colorbar": {
             "outlinewidth": 0,
             "ticks": ""
            },
            "type": "contourcarpet"
           }
          ],
          "heatmap": [
           {
            "colorbar": {
             "outlinewidth": 0,
             "ticks": ""
            },
            "colorscale": [
             [
              0,
              "#0d0887"
             ],
             [
              0.1111111111111111,
              "#46039f"
             ],
             [
              0.2222222222222222,
              "#7201a8"
             ],
             [
              0.3333333333333333,
              "#9c179e"
             ],
             [
              0.4444444444444444,
              "#bd3786"
             ],
             [
              0.5555555555555556,
              "#d8576b"
             ],
             [
              0.6666666666666666,
              "#ed7953"
             ],
             [
              0.7777777777777778,
              "#fb9f3a"
             ],
             [
              0.8888888888888888,
              "#fdca26"
             ],
             [
              1,
              "#f0f921"
             ]
            ],
            "type": "heatmap"
           }
          ],
          "heatmapgl": [
           {
            "colorbar": {
             "outlinewidth": 0,
             "ticks": ""
            },
            "colorscale": [
             [
              0,
              "#0d0887"
             ],
             [
              0.1111111111111111,
              "#46039f"
             ],
             [
              0.2222222222222222,
              "#7201a8"
             ],
             [
              0.3333333333333333,
              "#9c179e"
             ],
             [
              0.4444444444444444,
              "#bd3786"
             ],
             [
              0.5555555555555556,
              "#d8576b"
             ],
             [
              0.6666666666666666,
              "#ed7953"
             ],
             [
              0.7777777777777778,
              "#fb9f3a"
             ],
             [
              0.8888888888888888,
              "#fdca26"
             ],
             [
              1,
              "#f0f921"
             ]
            ],
            "type": "heatmapgl"
           }
          ],
          "histogram": [
           {
            "marker": {
             "pattern": {
              "fillmode": "overlay",
              "size": 10,
              "solidity": 0.2
             }
            },
            "type": "histogram"
           }
          ],
          "histogram2d": [
           {
            "colorbar": {
             "outlinewidth": 0,
             "ticks": ""
            },
            "colorscale": [
             [
              0,
              "#0d0887"
             ],
             [
              0.1111111111111111,
              "#46039f"
             ],
             [
              0.2222222222222222,
              "#7201a8"
             ],
             [
              0.3333333333333333,
              "#9c179e"
             ],
             [
              0.4444444444444444,
              "#bd3786"
             ],
             [
              0.5555555555555556,
              "#d8576b"
             ],
             [
              0.6666666666666666,
              "#ed7953"
             ],
             [
              0.7777777777777778,
              "#fb9f3a"
             ],
             [
              0.8888888888888888,
              "#fdca26"
             ],
             [
              1,
              "#f0f921"
             ]
            ],
            "type": "histogram2d"
           }
          ],
          "histogram2dcontour": [
           {
            "colorbar": {
             "outlinewidth": 0,
             "ticks": ""
            },
            "colorscale": [
             [
              0,
              "#0d0887"
             ],
             [
              0.1111111111111111,
              "#46039f"
             ],
             [
              0.2222222222222222,
              "#7201a8"
             ],
             [
              0.3333333333333333,
              "#9c179e"
             ],
             [
              0.4444444444444444,
              "#bd3786"
             ],
             [
              0.5555555555555556,
              "#d8576b"
             ],
             [
              0.6666666666666666,
              "#ed7953"
             ],
             [
              0.7777777777777778,
              "#fb9f3a"
             ],
             [
              0.8888888888888888,
              "#fdca26"
             ],
             [
              1,
              "#f0f921"
             ]
            ],
            "type": "histogram2dcontour"
           }
          ],
          "mesh3d": [
           {
            "colorbar": {
             "outlinewidth": 0,
             "ticks": ""
            },
            "type": "mesh3d"
           }
          ],
          "parcoords": [
           {
            "line": {
             "colorbar": {
              "outlinewidth": 0,
              "ticks": ""
             }
            },
            "type": "parcoords"
           }
          ],
          "pie": [
           {
            "automargin": true,
            "type": "pie"
           }
          ],
          "scatter": [
           {
            "fillpattern": {
             "fillmode": "overlay",
             "size": 10,
             "solidity": 0.2
            },
            "type": "scatter"
           }
          ],
          "scatter3d": [
           {
            "line": {
             "colorbar": {
              "outlinewidth": 0,
              "ticks": ""
             }
            },
            "marker": {
             "colorbar": {
              "outlinewidth": 0,
              "ticks": ""
             }
            },
            "type": "scatter3d"
           }
          ],
          "scattercarpet": [
           {
            "marker": {
             "colorbar": {
              "outlinewidth": 0,
              "ticks": ""
             }
            },
            "type": "scattercarpet"
           }
          ],
          "scattergeo": [
           {
            "marker": {
             "colorbar": {
              "outlinewidth": 0,
              "ticks": ""
             }
            },
            "type": "scattergeo"
           }
          ],
          "scattergl": [
           {
            "marker": {
             "colorbar": {
              "outlinewidth": 0,
              "ticks": ""
             }
            },
            "type": "scattergl"
           }
          ],
          "scattermapbox": [
           {
            "marker": {
             "colorbar": {
              "outlinewidth": 0,
              "ticks": ""
             }
            },
            "type": "scattermapbox"
           }
          ],
          "scatterpolar": [
           {
            "marker": {
             "colorbar": {
              "outlinewidth": 0,
              "ticks": ""
             }
            },
            "type": "scatterpolar"
           }
          ],
          "scatterpolargl": [
           {
            "marker": {
             "colorbar": {
              "outlinewidth": 0,
              "ticks": ""
             }
            },
            "type": "scatterpolargl"
           }
          ],
          "scatterternary": [
           {
            "marker": {
             "colorbar": {
              "outlinewidth": 0,
              "ticks": ""
             }
            },
            "type": "scatterternary"
           }
          ],
          "surface": [
           {
            "colorbar": {
             "outlinewidth": 0,
             "ticks": ""
            },
            "colorscale": [
             [
              0,
              "#0d0887"
             ],
             [
              0.1111111111111111,
              "#46039f"
             ],
             [
              0.2222222222222222,
              "#7201a8"
             ],
             [
              0.3333333333333333,
              "#9c179e"
             ],
             [
              0.4444444444444444,
              "#bd3786"
             ],
             [
              0.5555555555555556,
              "#d8576b"
             ],
             [
              0.6666666666666666,
              "#ed7953"
             ],
             [
              0.7777777777777778,
              "#fb9f3a"
             ],
             [
              0.8888888888888888,
              "#fdca26"
             ],
             [
              1,
              "#f0f921"
             ]
            ],
            "type": "surface"
           }
          ],
          "table": [
           {
            "cells": {
             "fill": {
              "color": "#EBF0F8"
             },
             "line": {
              "color": "white"
             }
            },
            "header": {
             "fill": {
              "color": "#C8D4E3"
             },
             "line": {
              "color": "white"
             }
            },
            "type": "table"
           }
          ]
         },
         "layout": {
          "annotationdefaults": {
           "arrowcolor": "#2a3f5f",
           "arrowhead": 0,
           "arrowwidth": 1
          },
          "autotypenumbers": "strict",
          "coloraxis": {
           "colorbar": {
            "outlinewidth": 0,
            "ticks": ""
           }
          },
          "colorscale": {
           "diverging": [
            [
             0,
             "#8e0152"
            ],
            [
             0.1,
             "#c51b7d"
            ],
            [
             0.2,
             "#de77ae"
            ],
            [
             0.3,
             "#f1b6da"
            ],
            [
             0.4,
             "#fde0ef"
            ],
            [
             0.5,
             "#f7f7f7"
            ],
            [
             0.6,
             "#e6f5d0"
            ],
            [
             0.7,
             "#b8e186"
            ],
            [
             0.8,
             "#7fbc41"
            ],
            [
             0.9,
             "#4d9221"
            ],
            [
             1,
             "#276419"
            ]
           ],
           "sequential": [
            [
             0,
             "#0d0887"
            ],
            [
             0.1111111111111111,
             "#46039f"
            ],
            [
             0.2222222222222222,
             "#7201a8"
            ],
            [
             0.3333333333333333,
             "#9c179e"
            ],
            [
             0.4444444444444444,
             "#bd3786"
            ],
            [
             0.5555555555555556,
             "#d8576b"
            ],
            [
             0.6666666666666666,
             "#ed7953"
            ],
            [
             0.7777777777777778,
             "#fb9f3a"
            ],
            [
             0.8888888888888888,
             "#fdca26"
            ],
            [
             1,
             "#f0f921"
            ]
           ],
           "sequentialminus": [
            [
             0,
             "#0d0887"
            ],
            [
             0.1111111111111111,
             "#46039f"
            ],
            [
             0.2222222222222222,
             "#7201a8"
            ],
            [
             0.3333333333333333,
             "#9c179e"
            ],
            [
             0.4444444444444444,
             "#bd3786"
            ],
            [
             0.5555555555555556,
             "#d8576b"
            ],
            [
             0.6666666666666666,
             "#ed7953"
            ],
            [
             0.7777777777777778,
             "#fb9f3a"
            ],
            [
             0.8888888888888888,
             "#fdca26"
            ],
            [
             1,
             "#f0f921"
            ]
           ]
          },
          "colorway": [
           "#636efa",
           "#EF553B",
           "#00cc96",
           "#ab63fa",
           "#FFA15A",
           "#19d3f3",
           "#FF6692",
           "#B6E880",
           "#FF97FF",
           "#FECB52"
          ],
          "font": {
           "color": "#2a3f5f"
          },
          "geo": {
           "bgcolor": "white",
           "lakecolor": "white",
           "landcolor": "#E5ECF6",
           "showlakes": true,
           "showland": true,
           "subunitcolor": "white"
          },
          "hoverlabel": {
           "align": "left"
          },
          "hovermode": "closest",
          "mapbox": {
           "style": "light"
          },
          "paper_bgcolor": "white",
          "plot_bgcolor": "#E5ECF6",
          "polar": {
           "angularaxis": {
            "gridcolor": "white",
            "linecolor": "white",
            "ticks": ""
           },
           "bgcolor": "#E5ECF6",
           "radialaxis": {
            "gridcolor": "white",
            "linecolor": "white",
            "ticks": ""
           }
          },
          "scene": {
           "xaxis": {
            "backgroundcolor": "#E5ECF6",
            "gridcolor": "white",
            "gridwidth": 2,
            "linecolor": "white",
            "showbackground": true,
            "ticks": "",
            "zerolinecolor": "white"
           },
           "yaxis": {
            "backgroundcolor": "#E5ECF6",
            "gridcolor": "white",
            "gridwidth": 2,
            "linecolor": "white",
            "showbackground": true,
            "ticks": "",
            "zerolinecolor": "white"
           },
           "zaxis": {
            "backgroundcolor": "#E5ECF6",
            "gridcolor": "white",
            "gridwidth": 2,
            "linecolor": "white",
            "showbackground": true,
            "ticks": "",
            "zerolinecolor": "white"
           }
          },
          "shapedefaults": {
           "line": {
            "color": "#2a3f5f"
           }
          },
          "ternary": {
           "aaxis": {
            "gridcolor": "white",
            "linecolor": "white",
            "ticks": ""
           },
           "baxis": {
            "gridcolor": "white",
            "linecolor": "white",
            "ticks": ""
           },
           "bgcolor": "#E5ECF6",
           "caxis": {
            "gridcolor": "white",
            "linecolor": "white",
            "ticks": ""
           }
          },
          "title": {
           "x": 0.05
          },
          "xaxis": {
           "automargin": true,
           "gridcolor": "white",
           "linecolor": "white",
           "ticks": "",
           "title": {
            "standoff": 15
           },
           "zerolinecolor": "white",
           "zerolinewidth": 2
          },
          "yaxis": {
           "automargin": true,
           "gridcolor": "white",
           "linecolor": "white",
           "ticks": "",
           "title": {
            "standoff": 15
           },
           "zerolinecolor": "white",
           "zerolinewidth": 2
          }
         }
        }
       }
      }
     },
     "metadata": {},
     "output_type": "display_data"
    }
   ],
   "source": [
    "model = KMeans(n_clusters=3)\n",
    "model.fit(features)\n",
    "groups = model.predict(features)\n",
    "# print(groups)\n",
    "px.scatter_3d(x=features[:,0], y=features[:,1], \n",
    "    z=features[:,2], color=groups, symbol=groups)"
   ]
  },
  {
   "cell_type": "code",
   "execution_count": 8,
   "metadata": {},
   "outputs": [],
   "source": [
    "from sklearn.pipeline import make_pipeline"
   ]
  },
  {
   "cell_type": "code",
   "execution_count": 9,
   "metadata": {},
   "outputs": [
    {
     "data": {
      "text/html": [
       "<style>#sk-container-id-1 {color: black;background-color: white;}#sk-container-id-1 pre{padding: 0;}#sk-container-id-1 div.sk-toggleable {background-color: white;}#sk-container-id-1 label.sk-toggleable__label {cursor: pointer;display: block;width: 100%;margin-bottom: 0;padding: 0.3em;box-sizing: border-box;text-align: center;}#sk-container-id-1 label.sk-toggleable__label-arrow:before {content: \"▸\";float: left;margin-right: 0.25em;color: #696969;}#sk-container-id-1 label.sk-toggleable__label-arrow:hover:before {color: black;}#sk-container-id-1 div.sk-estimator:hover label.sk-toggleable__label-arrow:before {color: black;}#sk-container-id-1 div.sk-toggleable__content {max-height: 0;max-width: 0;overflow: hidden;text-align: left;background-color: #f0f8ff;}#sk-container-id-1 div.sk-toggleable__content pre {margin: 0.2em;color: black;border-radius: 0.25em;background-color: #f0f8ff;}#sk-container-id-1 input.sk-toggleable__control:checked~div.sk-toggleable__content {max-height: 200px;max-width: 100%;overflow: auto;}#sk-container-id-1 input.sk-toggleable__control:checked~label.sk-toggleable__label-arrow:before {content: \"▾\";}#sk-container-id-1 div.sk-estimator input.sk-toggleable__control:checked~label.sk-toggleable__label {background-color: #d4ebff;}#sk-container-id-1 div.sk-label input.sk-toggleable__control:checked~label.sk-toggleable__label {background-color: #d4ebff;}#sk-container-id-1 input.sk-hidden--visually {border: 0;clip: rect(1px 1px 1px 1px);clip: rect(1px, 1px, 1px, 1px);height: 1px;margin: -1px;overflow: hidden;padding: 0;position: absolute;width: 1px;}#sk-container-id-1 div.sk-estimator {font-family: monospace;background-color: #f0f8ff;border: 1px dotted black;border-radius: 0.25em;box-sizing: border-box;margin-bottom: 0.5em;}#sk-container-id-1 div.sk-estimator:hover {background-color: #d4ebff;}#sk-container-id-1 div.sk-parallel-item::after {content: \"\";width: 100%;border-bottom: 1px solid gray;flex-grow: 1;}#sk-container-id-1 div.sk-label:hover label.sk-toggleable__label {background-color: #d4ebff;}#sk-container-id-1 div.sk-serial::before {content: \"\";position: absolute;border-left: 1px solid gray;box-sizing: border-box;top: 0;bottom: 0;left: 50%;z-index: 0;}#sk-container-id-1 div.sk-serial {display: flex;flex-direction: column;align-items: center;background-color: white;padding-right: 0.2em;padding-left: 0.2em;position: relative;}#sk-container-id-1 div.sk-item {position: relative;z-index: 1;}#sk-container-id-1 div.sk-parallel {display: flex;align-items: stretch;justify-content: center;background-color: white;position: relative;}#sk-container-id-1 div.sk-item::before, #sk-container-id-1 div.sk-parallel-item::before {content: \"\";position: absolute;border-left: 1px solid gray;box-sizing: border-box;top: 0;bottom: 0;left: 50%;z-index: -1;}#sk-container-id-1 div.sk-parallel-item {display: flex;flex-direction: column;z-index: 1;position: relative;background-color: white;}#sk-container-id-1 div.sk-parallel-item:first-child::after {align-self: flex-end;width: 50%;}#sk-container-id-1 div.sk-parallel-item:last-child::after {align-self: flex-start;width: 50%;}#sk-container-id-1 div.sk-parallel-item:only-child::after {width: 0;}#sk-container-id-1 div.sk-dashed-wrapped {border: 1px dashed gray;margin: 0 0.4em 0.5em 0.4em;box-sizing: border-box;padding-bottom: 0.4em;background-color: white;}#sk-container-id-1 div.sk-label label {font-family: monospace;font-weight: bold;display: inline-block;line-height: 1.2em;}#sk-container-id-1 div.sk-label-container {text-align: center;}#sk-container-id-1 div.sk-container {/* jupyter's `normalize.less` sets `[hidden] { display: none; }` but bootstrap.min.css set `[hidden] { display: none !important; }` so we also need the `!important` here to be able to override the default hidden behavior on the sphinx rendered scikit-learn.org. See: https://github.com/scikit-learn/scikit-learn/issues/21755 */display: inline-block !important;position: relative;}#sk-container-id-1 div.sk-text-repr-fallback {display: none;}</style><div id=\"sk-container-id-1\" class=\"sk-top-container\"><div class=\"sk-text-repr-fallback\"><pre>Pipeline(steps=[(&#x27;kernelpca&#x27;, KernelPCA(n_components=2)),\n",
       "                (&#x27;kmeans&#x27;, KMeans(n_clusters=3))])</pre><b>In a Jupyter environment, please rerun this cell to show the HTML representation or trust the notebook. <br />On GitHub, the HTML representation is unable to render, please try loading this page with nbviewer.org.</b></div><div class=\"sk-container\" hidden><div class=\"sk-item sk-dashed-wrapped\"><div class=\"sk-label-container\"><div class=\"sk-label sk-toggleable\"><input class=\"sk-toggleable__control sk-hidden--visually\" id=\"sk-estimator-id-1\" type=\"checkbox\" ><label for=\"sk-estimator-id-1\" class=\"sk-toggleable__label sk-toggleable__label-arrow\">Pipeline</label><div class=\"sk-toggleable__content\"><pre>Pipeline(steps=[(&#x27;kernelpca&#x27;, KernelPCA(n_components=2)),\n",
       "                (&#x27;kmeans&#x27;, KMeans(n_clusters=3))])</pre></div></div></div><div class=\"sk-serial\"><div class=\"sk-item\"><div class=\"sk-estimator sk-toggleable\"><input class=\"sk-toggleable__control sk-hidden--visually\" id=\"sk-estimator-id-2\" type=\"checkbox\" ><label for=\"sk-estimator-id-2\" class=\"sk-toggleable__label sk-toggleable__label-arrow\">KernelPCA</label><div class=\"sk-toggleable__content\"><pre>KernelPCA(n_components=2)</pre></div></div></div><div class=\"sk-item\"><div class=\"sk-estimator sk-toggleable\"><input class=\"sk-toggleable__control sk-hidden--visually\" id=\"sk-estimator-id-3\" type=\"checkbox\" ><label for=\"sk-estimator-id-3\" class=\"sk-toggleable__label sk-toggleable__label-arrow\">KMeans</label><div class=\"sk-toggleable__content\"><pre>KMeans(n_clusters=3)</pre></div></div></div></div></div></div></div>"
      ],
      "text/plain": [
       "Pipeline(steps=[('kernelpca', KernelPCA(n_components=2)),\n",
       "                ('kmeans', KMeans(n_clusters=3))])"
      ]
     },
     "execution_count": 9,
     "metadata": {},
     "output_type": "execute_result"
    }
   ],
   "source": [
    "model = make_pipeline(KernelPCA(n_components=2), KMeans(n_clusters=3))\n",
    "model"
   ]
  },
  {
   "cell_type": "code",
   "execution_count": 10,
   "metadata": {},
   "outputs": [
    {
     "name": "stderr",
     "output_type": "stream",
     "text": [
      "c:\\Users\\Shambhavi\\miniconda3\\lib\\site-packages\\sklearn\\cluster\\_kmeans.py:1334: UserWarning:\n",
      "\n",
      "KMeans is known to have a memory leak on Windows with MKL, when there are less chunks than available threads. You can avoid it by setting the environment variable OMP_NUM_THREADS=1.\n",
      "\n"
     ]
    },
    {
     "data": {
      "text/html": [
       "<style>#sk-container-id-2 {color: black;background-color: white;}#sk-container-id-2 pre{padding: 0;}#sk-container-id-2 div.sk-toggleable {background-color: white;}#sk-container-id-2 label.sk-toggleable__label {cursor: pointer;display: block;width: 100%;margin-bottom: 0;padding: 0.3em;box-sizing: border-box;text-align: center;}#sk-container-id-2 label.sk-toggleable__label-arrow:before {content: \"▸\";float: left;margin-right: 0.25em;color: #696969;}#sk-container-id-2 label.sk-toggleable__label-arrow:hover:before {color: black;}#sk-container-id-2 div.sk-estimator:hover label.sk-toggleable__label-arrow:before {color: black;}#sk-container-id-2 div.sk-toggleable__content {max-height: 0;max-width: 0;overflow: hidden;text-align: left;background-color: #f0f8ff;}#sk-container-id-2 div.sk-toggleable__content pre {margin: 0.2em;color: black;border-radius: 0.25em;background-color: #f0f8ff;}#sk-container-id-2 input.sk-toggleable__control:checked~div.sk-toggleable__content {max-height: 200px;max-width: 100%;overflow: auto;}#sk-container-id-2 input.sk-toggleable__control:checked~label.sk-toggleable__label-arrow:before {content: \"▾\";}#sk-container-id-2 div.sk-estimator input.sk-toggleable__control:checked~label.sk-toggleable__label {background-color: #d4ebff;}#sk-container-id-2 div.sk-label input.sk-toggleable__control:checked~label.sk-toggleable__label {background-color: #d4ebff;}#sk-container-id-2 input.sk-hidden--visually {border: 0;clip: rect(1px 1px 1px 1px);clip: rect(1px, 1px, 1px, 1px);height: 1px;margin: -1px;overflow: hidden;padding: 0;position: absolute;width: 1px;}#sk-container-id-2 div.sk-estimator {font-family: monospace;background-color: #f0f8ff;border: 1px dotted black;border-radius: 0.25em;box-sizing: border-box;margin-bottom: 0.5em;}#sk-container-id-2 div.sk-estimator:hover {background-color: #d4ebff;}#sk-container-id-2 div.sk-parallel-item::after {content: \"\";width: 100%;border-bottom: 1px solid gray;flex-grow: 1;}#sk-container-id-2 div.sk-label:hover label.sk-toggleable__label {background-color: #d4ebff;}#sk-container-id-2 div.sk-serial::before {content: \"\";position: absolute;border-left: 1px solid gray;box-sizing: border-box;top: 0;bottom: 0;left: 50%;z-index: 0;}#sk-container-id-2 div.sk-serial {display: flex;flex-direction: column;align-items: center;background-color: white;padding-right: 0.2em;padding-left: 0.2em;position: relative;}#sk-container-id-2 div.sk-item {position: relative;z-index: 1;}#sk-container-id-2 div.sk-parallel {display: flex;align-items: stretch;justify-content: center;background-color: white;position: relative;}#sk-container-id-2 div.sk-item::before, #sk-container-id-2 div.sk-parallel-item::before {content: \"\";position: absolute;border-left: 1px solid gray;box-sizing: border-box;top: 0;bottom: 0;left: 50%;z-index: -1;}#sk-container-id-2 div.sk-parallel-item {display: flex;flex-direction: column;z-index: 1;position: relative;background-color: white;}#sk-container-id-2 div.sk-parallel-item:first-child::after {align-self: flex-end;width: 50%;}#sk-container-id-2 div.sk-parallel-item:last-child::after {align-self: flex-start;width: 50%;}#sk-container-id-2 div.sk-parallel-item:only-child::after {width: 0;}#sk-container-id-2 div.sk-dashed-wrapped {border: 1px dashed gray;margin: 0 0.4em 0.5em 0.4em;box-sizing: border-box;padding-bottom: 0.4em;background-color: white;}#sk-container-id-2 div.sk-label label {font-family: monospace;font-weight: bold;display: inline-block;line-height: 1.2em;}#sk-container-id-2 div.sk-label-container {text-align: center;}#sk-container-id-2 div.sk-container {/* jupyter's `normalize.less` sets `[hidden] { display: none; }` but bootstrap.min.css set `[hidden] { display: none !important; }` so we also need the `!important` here to be able to override the default hidden behavior on the sphinx rendered scikit-learn.org. See: https://github.com/scikit-learn/scikit-learn/issues/21755 */display: inline-block !important;position: relative;}#sk-container-id-2 div.sk-text-repr-fallback {display: none;}</style><div id=\"sk-container-id-2\" class=\"sk-top-container\"><div class=\"sk-text-repr-fallback\"><pre>Pipeline(steps=[(&#x27;kernelpca&#x27;, KernelPCA(n_components=2)),\n",
       "                (&#x27;kmeans&#x27;, KMeans(n_clusters=3))])</pre><b>In a Jupyter environment, please rerun this cell to show the HTML representation or trust the notebook. <br />On GitHub, the HTML representation is unable to render, please try loading this page with nbviewer.org.</b></div><div class=\"sk-container\" hidden><div class=\"sk-item sk-dashed-wrapped\"><div class=\"sk-label-container\"><div class=\"sk-label sk-toggleable\"><input class=\"sk-toggleable__control sk-hidden--visually\" id=\"sk-estimator-id-4\" type=\"checkbox\" ><label for=\"sk-estimator-id-4\" class=\"sk-toggleable__label sk-toggleable__label-arrow\">Pipeline</label><div class=\"sk-toggleable__content\"><pre>Pipeline(steps=[(&#x27;kernelpca&#x27;, KernelPCA(n_components=2)),\n",
       "                (&#x27;kmeans&#x27;, KMeans(n_clusters=3))])</pre></div></div></div><div class=\"sk-serial\"><div class=\"sk-item\"><div class=\"sk-estimator sk-toggleable\"><input class=\"sk-toggleable__control sk-hidden--visually\" id=\"sk-estimator-id-5\" type=\"checkbox\" ><label for=\"sk-estimator-id-5\" class=\"sk-toggleable__label sk-toggleable__label-arrow\">KernelPCA</label><div class=\"sk-toggleable__content\"><pre>KernelPCA(n_components=2)</pre></div></div></div><div class=\"sk-item\"><div class=\"sk-estimator sk-toggleable\"><input class=\"sk-toggleable__control sk-hidden--visually\" id=\"sk-estimator-id-6\" type=\"checkbox\" ><label for=\"sk-estimator-id-6\" class=\"sk-toggleable__label sk-toggleable__label-arrow\">KMeans</label><div class=\"sk-toggleable__content\"><pre>KMeans(n_clusters=3)</pre></div></div></div></div></div></div></div>"
      ],
      "text/plain": [
       "Pipeline(steps=[('kernelpca', KernelPCA(n_components=2)),\n",
       "                ('kmeans', KMeans(n_clusters=3))])"
      ]
     },
     "execution_count": 10,
     "metadata": {},
     "output_type": "execute_result"
    }
   ],
   "source": [
    "model.fit(X)"
   ]
  },
  {
   "cell_type": "code",
   "execution_count": 11,
   "metadata": {},
   "outputs": [
    {
     "data": {
      "text/plain": [
       "array([1, 1, 1, 1, 1, 1, 1, 1, 1, 1, 1, 1, 1, 1, 1, 1, 1, 1, 1, 1, 1, 1,\n",
       "       1, 1, 1, 1, 1, 1, 1, 1, 1, 1, 1, 1, 1, 1, 1, 1, 1, 1, 1, 1, 1, 1,\n",
       "       1, 1, 1, 1, 1, 1, 2, 0, 2, 0, 0, 0, 0, 0, 0, 0, 0, 0, 0, 0, 0, 0,\n",
       "       0, 0, 0, 0, 0, 0, 0, 0, 0, 0, 0, 2, 0, 0, 0, 0, 0, 0, 0, 0, 0, 0,\n",
       "       0, 0, 0, 0, 0, 0, 0, 0, 0, 0, 0, 0, 2, 0, 2, 2, 2, 2, 0, 2, 2, 2,\n",
       "       2, 2, 2, 0, 0, 2, 2, 2, 2, 0, 2, 0, 2, 0, 2, 2, 0, 0, 2, 2, 2, 2,\n",
       "       2, 0, 2, 2, 2, 2, 0, 2, 2, 2, 0, 2, 2, 2, 0, 2, 2, 0])"
      ]
     },
     "execution_count": 11,
     "metadata": {},
     "output_type": "execute_result"
    }
   ],
   "source": [
    "model.predict(X)"
   ]
  },
  {
   "cell_type": "code",
   "execution_count": null,
   "metadata": {},
   "outputs": [],
   "source": []
  }
 ],
 "metadata": {
  "kernelspec": {
   "display_name": "Python 3.9.13 ('base')",
   "language": "python",
   "name": "python3"
  },
  "language_info": {
   "codemirror_mode": {
    "name": "ipython",
    "version": 3
   },
   "file_extension": ".py",
   "mimetype": "text/x-python",
   "name": "python",
   "nbconvert_exporter": "python",
   "pygments_lexer": "ipython3",
   "version": "3.9.13"
  },
  "orig_nbformat": 4,
  "vscode": {
   "interpreter": {
    "hash": "5c2e1fbdbc753133dbe82f78110374a46e694123620e9daffa43fa991124e895"
   }
  }
 },
 "nbformat": 4,
 "nbformat_minor": 2
}
